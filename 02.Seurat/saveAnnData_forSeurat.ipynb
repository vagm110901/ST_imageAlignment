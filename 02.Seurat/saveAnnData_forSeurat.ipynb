{
 "cells": [
  {
   "cell_type": "code",
   "execution_count": null,
   "metadata": {},
   "outputs": [],
   "source": [
    "import scanpy as sc"
   ]
  },
  {
   "cell_type": "code",
   "execution_count": null,
   "metadata": {},
   "outputs": [],
   "source": [
    "carpetaData = \"/home/vgaya/ST_imageAlignment/07.PASTE2/alignAnnData/\"\n",
    "\n",
    "patient = \"19\"\n",
    "N = \"2\""
   ]
  },
  {
   "cell_type": "code",
   "execution_count": null,
   "metadata": {},
   "outputs": [],
   "source": [
    "patient_1_name = (f\"{carpetaData}Paciente{patient}_merge_1_align1{N}_h.h5ad\")\n",
    "patient_1 = sc.read_h5ad(patient_1_name)\n",
    "\n",
    "patient_prob_name = (f\"{carpetaData}Paciente{patient}_merge_{N}_align1{N}_h.h5ad\")\n",
    "patient_prob = sc.read_h5ad(patient_prob_name)"
   ]
  }
 ],
 "metadata": {
  "kernelspec": {
   "display_name": "py_env",
   "language": "python",
   "name": "python3"
  },
  "language_info": {
   "codemirror_mode": {
    "name": "ipython",
    "version": 3
   },
   "file_extension": ".py",
   "mimetype": "text/x-python",
   "name": "python",
   "nbconvert_exporter": "python",
   "pygments_lexer": "ipython3",
   "version": "3.13.2"
  }
 },
 "nbformat": 4,
 "nbformat_minor": 2
}
