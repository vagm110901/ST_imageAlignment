{
 "cells": [
  {
   "cell_type": "code",
   "execution_count": 47,
   "id": "56006a08-9b54-4f65-a895-7856751d2027",
   "metadata": {},
   "outputs": [
    {
     "name": "stdout",
     "output_type": "stream",
     "text": [
      "squidpy==1.6.2\n"
     ]
    }
   ],
   "source": [
    "import scanpy as sc\n",
    "import seaborn as sns\n",
    "import matplotlib.pyplot as plt\n",
    "import matplotlib.patches as mpatches\n",
    "import pandas as pd\n",
    "import numpy as np\n",
    "import anndata as ad \n",
    "import squidpy as sq\n",
    "from skimage import io\n",
    "sc.logging.print_header()\n",
    "print(f\"squidpy=={sq.__version__}\")"
   ]
  },
  {
   "cell_type": "code",
   "execution_count": null,
   "id": "54bf7871-85cd-49da-87f1-4f17820fb3d5",
   "metadata": {},
   "outputs": [],
   "source": [
    "adatas = []"
   ]
  },
  {
   "cell_type": "code",
   "execution_count": null,
   "id": "f7896a91-95c2-44ff-bce0-aca7fc8b17d0",
   "metadata": {},
   "outputs": [],
   "source": [
    "for i in range(1, 5):\n",
    "    # Load expression matrixes and metadata for each slice\n",
    "    expression = pd.read_csv(f'expression_matrix_slice{i}.csv', index_col=0)\n",
    "    cell_metadata = pd.read_csv(f'cell_metadata_slice{i}.csv', index_col=0)\n",
    "    gene_metadata = pd.read_csv('gene_metadata.csv', index_col=0)  # Los metadatos de genes son comunes\n",
    "    \n",
    "    # Cargar las coordenadas espaciales (row, col, imagerow, imagecol)\n",
    "    image_coords = pd.read_csv(f\"image_coordinates_slice{i}.csv\", index_col=0)\n",
    "    spatial_coords = image_coords[['row', 'col']]  # Ajustar según los nombres de las columnas\n",
    "\n",
    "    # Crear objeto AnnData para el slice\n",
    "    adata = sc.AnnData(X=expression.values, obs=cell_metadata, var=gene_metadata)\n",
    "\n",
    "    # Incluir las coordenadas espaciales\n",
    "    adata.obsm['spatial'] = spatial_coords.values\n",
    "\n",
    "    # Cargar la imagen espacial para el slice\n",
    "    spatial_image = io.imread(f\"spatial_image_slice{i}.png\")\n",
    "\n",
    "    # Asociar la imagen al objeto AnnData\n",
    "    adata.uns['spatial_image'] = spatial_image\n",
    "\n",
    "    # Agregar el objeto AnnData a la lista\n",
    "    adatas.append(adata)"
   ]
  },
  {
   "cell_type": "code",
   "execution_count": null,
   "id": "6275b8fe-251e-448a-adcd-a0617a52ec72",
   "metadata": {},
   "outputs": [],
   "source": []
  },
  {
   "cell_type": "code",
   "execution_count": 34,
   "id": "dee6a05d-3035-4533-a640-ccac73fcb5a9",
   "metadata": {},
   "outputs": [],
   "source": [
    "file_patient19 = 'Paciente19_merge_MU.h5ad'\n",
    "\n",
    "patient19 = sc.read_h5ad(file_patient19)"
   ]
  },
  {
   "cell_type": "code",
   "execution_count": 35,
   "id": "efae069f-6b69-446d-9399-23361250a573",
   "metadata": {},
   "outputs": [
    {
     "data": {
      "text/plain": [
       "AnnData object with n_obs × n_vars = 19893 × 28463\n",
       "    obs: 'orig.ident', 'nCount_Spatial', 'nFeature_Spatial', 'name', 'info', 'percent.butterfly'\n",
       "    layers: 'counts'"
      ]
     },
     "execution_count": 35,
     "metadata": {},
     "output_type": "execute_result"
    }
   ],
   "source": [
    "patient19"
   ]
  },
  {
   "cell_type": "code",
   "execution_count": 36,
   "id": "1df0742a-eeac-4826-a5b1-000158511f5a",
   "metadata": {},
   "outputs": [
    {
     "data": {
      "text/plain": [
       "(19893, 28463)"
      ]
     },
     "execution_count": 36,
     "metadata": {},
     "output_type": "execute_result"
    }
   ],
   "source": [
    "patient19.shape  # (número de células, número de genes)"
   ]
  },
  {
   "cell_type": "code",
   "execution_count": 37,
   "id": "cd170e9b-d410-4308-a1c2-73d3cea607fc",
   "metadata": {},
   "outputs": [
    {
     "data": {
      "text/plain": [
       "<Compressed Sparse Row sparse matrix of dtype 'float64'\n",
       "\twith 0 stored elements and shape (5, 5)>"
      ]
     },
     "execution_count": 37,
     "metadata": {},
     "output_type": "execute_result"
    }
   ],
   "source": [
    "patient19.X[:5, :5]  # Muestra los primeros 5 valores de la matriz"
   ]
  },
  {
   "cell_type": "code",
   "execution_count": 38,
   "id": "56f8fc30-9bdd-4613-aa0c-a6687172ce5e",
   "metadata": {},
   "outputs": [
    {
     "data": {
      "text/html": [
       "<div>\n",
       "<style scoped>\n",
       "    .dataframe tbody tr th:only-of-type {\n",
       "        vertical-align: middle;\n",
       "    }\n",
       "\n",
       "    .dataframe tbody tr th {\n",
       "        vertical-align: top;\n",
       "    }\n",
       "\n",
       "    .dataframe thead th {\n",
       "        text-align: right;\n",
       "    }\n",
       "</style>\n",
       "<table border=\"1\" class=\"dataframe\">\n",
       "  <thead>\n",
       "    <tr style=\"text-align: right;\">\n",
       "      <th></th>\n",
       "      <th>orig.ident</th>\n",
       "      <th>nCount_Spatial</th>\n",
       "      <th>nFeature_Spatial</th>\n",
       "      <th>name</th>\n",
       "      <th>info</th>\n",
       "      <th>percent.butterfly</th>\n",
       "    </tr>\n",
       "  </thead>\n",
       "  <tbody>\n",
       "    <tr>\n",
       "      <th>slice19_1_AAACAACGAATAGTTC-1</th>\n",
       "      <td>SeuratProject</td>\n",
       "      <td>3134.0</td>\n",
       "      <td>1647</td>\n",
       "      <td>slice19_1</td>\n",
       "      <td>paciente19</td>\n",
       "      <td>0.000000</td>\n",
       "    </tr>\n",
       "    <tr>\n",
       "      <th>slice19_1_AAACAAGTATCTCCCA-1</th>\n",
       "      <td>SeuratProject</td>\n",
       "      <td>507.0</td>\n",
       "      <td>328</td>\n",
       "      <td>slice19_1</td>\n",
       "      <td>paciente19</td>\n",
       "      <td>0.000000</td>\n",
       "    </tr>\n",
       "    <tr>\n",
       "      <th>slice19_1_AAACAATCTACTAGCA-1</th>\n",
       "      <td>SeuratProject</td>\n",
       "      <td>906.0</td>\n",
       "      <td>542</td>\n",
       "      <td>slice19_1</td>\n",
       "      <td>paciente19</td>\n",
       "      <td>0.110375</td>\n",
       "    </tr>\n",
       "    <tr>\n",
       "      <th>slice19_1_AAACACCAATAACTGC-1</th>\n",
       "      <td>SeuratProject</td>\n",
       "      <td>3385.0</td>\n",
       "      <td>1610</td>\n",
       "      <td>slice19_1</td>\n",
       "      <td>paciente19</td>\n",
       "      <td>0.088626</td>\n",
       "    </tr>\n",
       "    <tr>\n",
       "      <th>slice19_1_AAACAGAGCGACTCCT-1</th>\n",
       "      <td>SeuratProject</td>\n",
       "      <td>1680.0</td>\n",
       "      <td>1070</td>\n",
       "      <td>slice19_1</td>\n",
       "      <td>paciente19</td>\n",
       "      <td>0.059524</td>\n",
       "    </tr>\n",
       "  </tbody>\n",
       "</table>\n",
       "</div>"
      ],
      "text/plain": [
       "                                 orig.ident  nCount_Spatial  nFeature_Spatial  \\\n",
       "slice19_1_AAACAACGAATAGTTC-1  SeuratProject          3134.0              1647   \n",
       "slice19_1_AAACAAGTATCTCCCA-1  SeuratProject           507.0               328   \n",
       "slice19_1_AAACAATCTACTAGCA-1  SeuratProject           906.0               542   \n",
       "slice19_1_AAACACCAATAACTGC-1  SeuratProject          3385.0              1610   \n",
       "slice19_1_AAACAGAGCGACTCCT-1  SeuratProject          1680.0              1070   \n",
       "\n",
       "                                   name        info  percent.butterfly  \n",
       "slice19_1_AAACAACGAATAGTTC-1  slice19_1  paciente19           0.000000  \n",
       "slice19_1_AAACAAGTATCTCCCA-1  slice19_1  paciente19           0.000000  \n",
       "slice19_1_AAACAATCTACTAGCA-1  slice19_1  paciente19           0.110375  \n",
       "slice19_1_AAACACCAATAACTGC-1  slice19_1  paciente19           0.088626  \n",
       "slice19_1_AAACAGAGCGACTCCT-1  slice19_1  paciente19           0.059524  "
      ]
     },
     "execution_count": 38,
     "metadata": {},
     "output_type": "execute_result"
    }
   ],
   "source": [
    "patient19.obs.head()"
   ]
  },
  {
   "cell_type": "code",
   "execution_count": 42,
   "id": "6c394f18-a6ba-4536-80cd-7c7f26af2f1a",
   "metadata": {},
   "outputs": [
    {
     "data": {
      "text/html": [
       "<div>\n",
       "<style scoped>\n",
       "    .dataframe tbody tr th:only-of-type {\n",
       "        vertical-align: middle;\n",
       "    }\n",
       "\n",
       "    .dataframe tbody tr th {\n",
       "        vertical-align: top;\n",
       "    }\n",
       "\n",
       "    .dataframe thead th {\n",
       "        text-align: right;\n",
       "    }\n",
       "</style>\n",
       "<table border=\"1\" class=\"dataframe\">\n",
       "  <thead>\n",
       "    <tr style=\"text-align: right;\">\n",
       "      <th></th>\n",
       "    </tr>\n",
       "  </thead>\n",
       "  <tbody>\n",
       "    <tr>\n",
       "      <th>MIR6859-1</th>\n",
       "    </tr>\n",
       "    <tr>\n",
       "      <th>MIR1302-2</th>\n",
       "    </tr>\n",
       "    <tr>\n",
       "      <th>OR4F5</th>\n",
       "    </tr>\n",
       "    <tr>\n",
       "      <th>RNU6-1100P</th>\n",
       "    </tr>\n",
       "    <tr>\n",
       "      <th>MIR6859-2</th>\n",
       "    </tr>\n",
       "  </tbody>\n",
       "</table>\n",
       "</div>"
      ],
      "text/plain": [
       "Empty DataFrame\n",
       "Columns: []\n",
       "Index: [MIR6859-1, MIR1302-2, OR4F5, RNU6-1100P, MIR6859-2]"
      ]
     },
     "execution_count": 42,
     "metadata": {},
     "output_type": "execute_result"
    }
   ],
   "source": [
    "patient19.var.head()"
   ]
  },
  {
   "cell_type": "code",
   "execution_count": 43,
   "id": "1bb63b91-24e9-4228-be69-0cf6916666b4",
   "metadata": {},
   "outputs": [
    {
     "data": {
      "text/html": [
       "<div>\n",
       "<style scoped>\n",
       "    .dataframe tbody tr th:only-of-type {\n",
       "        vertical-align: middle;\n",
       "    }\n",
       "\n",
       "    .dataframe tbody tr th {\n",
       "        vertical-align: top;\n",
       "    }\n",
       "\n",
       "    .dataframe thead th {\n",
       "        text-align: right;\n",
       "    }\n",
       "</style>\n",
       "<table border=\"1\" class=\"dataframe\">\n",
       "  <thead>\n",
       "    <tr style=\"text-align: right;\">\n",
       "      <th></th>\n",
       "      <th>orig.ident</th>\n",
       "      <th>nCount_Spatial</th>\n",
       "      <th>nFeature_Spatial</th>\n",
       "      <th>name</th>\n",
       "      <th>info</th>\n",
       "      <th>percent.butterfly</th>\n",
       "    </tr>\n",
       "  </thead>\n",
       "  <tbody>\n",
       "    <tr>\n",
       "      <th>slice19_1_AAACAACGAATAGTTC-1</th>\n",
       "      <td>SeuratProject</td>\n",
       "      <td>3134.0</td>\n",
       "      <td>1647</td>\n",
       "      <td>slice19_1</td>\n",
       "      <td>paciente19</td>\n",
       "      <td>0.000000</td>\n",
       "    </tr>\n",
       "    <tr>\n",
       "      <th>slice19_1_AAACAAGTATCTCCCA-1</th>\n",
       "      <td>SeuratProject</td>\n",
       "      <td>507.0</td>\n",
       "      <td>328</td>\n",
       "      <td>slice19_1</td>\n",
       "      <td>paciente19</td>\n",
       "      <td>0.000000</td>\n",
       "    </tr>\n",
       "    <tr>\n",
       "      <th>slice19_1_AAACAATCTACTAGCA-1</th>\n",
       "      <td>SeuratProject</td>\n",
       "      <td>906.0</td>\n",
       "      <td>542</td>\n",
       "      <td>slice19_1</td>\n",
       "      <td>paciente19</td>\n",
       "      <td>0.110375</td>\n",
       "    </tr>\n",
       "    <tr>\n",
       "      <th>slice19_1_AAACACCAATAACTGC-1</th>\n",
       "      <td>SeuratProject</td>\n",
       "      <td>3385.0</td>\n",
       "      <td>1610</td>\n",
       "      <td>slice19_1</td>\n",
       "      <td>paciente19</td>\n",
       "      <td>0.088626</td>\n",
       "    </tr>\n",
       "    <tr>\n",
       "      <th>slice19_1_AAACAGAGCGACTCCT-1</th>\n",
       "      <td>SeuratProject</td>\n",
       "      <td>1680.0</td>\n",
       "      <td>1070</td>\n",
       "      <td>slice19_1</td>\n",
       "      <td>paciente19</td>\n",
       "      <td>0.059524</td>\n",
       "    </tr>\n",
       "    <tr>\n",
       "      <th>...</th>\n",
       "      <td>...</td>\n",
       "      <td>...</td>\n",
       "      <td>...</td>\n",
       "      <td>...</td>\n",
       "      <td>...</td>\n",
       "      <td>...</td>\n",
       "    </tr>\n",
       "    <tr>\n",
       "      <th>slice19_4_TTGTTTCACATCCAGG-1</th>\n",
       "      <td>SeuratProject</td>\n",
       "      <td>830.0</td>\n",
       "      <td>475</td>\n",
       "      <td>slice19_4</td>\n",
       "      <td>paciente19</td>\n",
       "      <td>0.120482</td>\n",
       "    </tr>\n",
       "    <tr>\n",
       "      <th>slice19_4_TTGTTTCATTAGTCTA-1</th>\n",
       "      <td>SeuratProject</td>\n",
       "      <td>601.0</td>\n",
       "      <td>380</td>\n",
       "      <td>slice19_4</td>\n",
       "      <td>paciente19</td>\n",
       "      <td>0.000000</td>\n",
       "    </tr>\n",
       "    <tr>\n",
       "      <th>slice19_4_TTGTTTCCATACAACT-1</th>\n",
       "      <td>SeuratProject</td>\n",
       "      <td>917.0</td>\n",
       "      <td>562</td>\n",
       "      <td>slice19_4</td>\n",
       "      <td>paciente19</td>\n",
       "      <td>0.000000</td>\n",
       "    </tr>\n",
       "    <tr>\n",
       "      <th>slice19_4_TTGTTTGTATTACACG-1</th>\n",
       "      <td>SeuratProject</td>\n",
       "      <td>1355.0</td>\n",
       "      <td>820</td>\n",
       "      <td>slice19_4</td>\n",
       "      <td>paciente19</td>\n",
       "      <td>0.000000</td>\n",
       "    </tr>\n",
       "    <tr>\n",
       "      <th>slice19_4_TTGTTTGTGTAAATTC-1</th>\n",
       "      <td>SeuratProject</td>\n",
       "      <td>793.0</td>\n",
       "      <td>484</td>\n",
       "      <td>slice19_4</td>\n",
       "      <td>paciente19</td>\n",
       "      <td>0.000000</td>\n",
       "    </tr>\n",
       "  </tbody>\n",
       "</table>\n",
       "<p>19893 rows × 6 columns</p>\n",
       "</div>"
      ],
      "text/plain": [
       "                                 orig.ident  nCount_Spatial  nFeature_Spatial  \\\n",
       "slice19_1_AAACAACGAATAGTTC-1  SeuratProject          3134.0              1647   \n",
       "slice19_1_AAACAAGTATCTCCCA-1  SeuratProject           507.0               328   \n",
       "slice19_1_AAACAATCTACTAGCA-1  SeuratProject           906.0               542   \n",
       "slice19_1_AAACACCAATAACTGC-1  SeuratProject          3385.0              1610   \n",
       "slice19_1_AAACAGAGCGACTCCT-1  SeuratProject          1680.0              1070   \n",
       "...                                     ...             ...               ...   \n",
       "slice19_4_TTGTTTCACATCCAGG-1  SeuratProject           830.0               475   \n",
       "slice19_4_TTGTTTCATTAGTCTA-1  SeuratProject           601.0               380   \n",
       "slice19_4_TTGTTTCCATACAACT-1  SeuratProject           917.0               562   \n",
       "slice19_4_TTGTTTGTATTACACG-1  SeuratProject          1355.0               820   \n",
       "slice19_4_TTGTTTGTGTAAATTC-1  SeuratProject           793.0               484   \n",
       "\n",
       "                                   name        info  percent.butterfly  \n",
       "slice19_1_AAACAACGAATAGTTC-1  slice19_1  paciente19           0.000000  \n",
       "slice19_1_AAACAAGTATCTCCCA-1  slice19_1  paciente19           0.000000  \n",
       "slice19_1_AAACAATCTACTAGCA-1  slice19_1  paciente19           0.110375  \n",
       "slice19_1_AAACACCAATAACTGC-1  slice19_1  paciente19           0.088626  \n",
       "slice19_1_AAACAGAGCGACTCCT-1  slice19_1  paciente19           0.059524  \n",
       "...                                 ...         ...                ...  \n",
       "slice19_4_TTGTTTCACATCCAGG-1  slice19_4  paciente19           0.120482  \n",
       "slice19_4_TTGTTTCATTAGTCTA-1  slice19_4  paciente19           0.000000  \n",
       "slice19_4_TTGTTTCCATACAACT-1  slice19_4  paciente19           0.000000  \n",
       "slice19_4_TTGTTTGTATTACACG-1  slice19_4  paciente19           0.000000  \n",
       "slice19_4_TTGTTTGTGTAAATTC-1  slice19_4  paciente19           0.000000  \n",
       "\n",
       "[19893 rows x 6 columns]"
      ]
     },
     "execution_count": 43,
     "metadata": {},
     "output_type": "execute_result"
    }
   ],
   "source": [
    "patient19.obs"
   ]
  },
  {
   "cell_type": "code",
   "execution_count": 33,
   "id": "1353ea92-9c43-4d48-9159-feb1544939a7",
   "metadata": {},
   "outputs": [
    {
     "ename": "KeyError",
     "evalue": "'Spatial basis `spatial` not found in `adata.obsm`.'",
     "output_type": "error",
     "traceback": [
      "\u001b[0;31m---------------------------------------------------------------------------\u001b[0m",
      "\u001b[0;31mKeyError\u001b[0m                                  Traceback (most recent call last)",
      "Cell \u001b[0;32mIn[33], line 1\u001b[0m\n\u001b[0;32m----> 1\u001b[0m \u001b[43msq\u001b[49m\u001b[38;5;241;43m.\u001b[39;49m\u001b[43mgr\u001b[49m\u001b[38;5;241;43m.\u001b[39;49m\u001b[43mspatial_neighbors\u001b[49m\u001b[43m(\u001b[49m\u001b[43mpatient19\u001b[49m\u001b[43m)\u001b[49m\n",
      "File \u001b[0;32m~/anaconda3/envs/py_env/lib/python3.13/site-packages/squidpy/gr/_build.py:198\u001b[0m, in \u001b[0;36mspatial_neighbors\u001b[0;34m(adata, spatial_key, elements_to_coordinate_systems, table_key, library_key, coord_type, n_neighs, radius, delaunay, n_rings, percentile, transform, set_diag, key_added, copy)\u001b[0m\n\u001b[1;32m    196\u001b[0m _assert_positive(n_rings, name\u001b[38;5;241m=\u001b[39m\u001b[38;5;124m\"\u001b[39m\u001b[38;5;124mn_rings\u001b[39m\u001b[38;5;124m\"\u001b[39m)\n\u001b[1;32m    197\u001b[0m _assert_positive(n_neighs, name\u001b[38;5;241m=\u001b[39m\u001b[38;5;124m\"\u001b[39m\u001b[38;5;124mn_neighs\u001b[39m\u001b[38;5;124m\"\u001b[39m)\n\u001b[0;32m--> 198\u001b[0m \u001b[43m_assert_spatial_basis\u001b[49m\u001b[43m(\u001b[49m\u001b[43madata\u001b[49m\u001b[43m,\u001b[49m\u001b[43m \u001b[49m\u001b[43mspatial_key\u001b[49m\u001b[43m)\u001b[49m\n\u001b[1;32m    200\u001b[0m transform \u001b[38;5;241m=\u001b[39m Transform\u001b[38;5;241m.\u001b[39mNONE \u001b[38;5;28;01mif\u001b[39;00m transform \u001b[38;5;129;01mis\u001b[39;00m \u001b[38;5;28;01mNone\u001b[39;00m \u001b[38;5;28;01melse\u001b[39;00m Transform(transform)\n\u001b[1;32m    201\u001b[0m \u001b[38;5;28;01mif\u001b[39;00m coord_type \u001b[38;5;129;01mis\u001b[39;00m \u001b[38;5;28;01mNone\u001b[39;00m:\n",
      "File \u001b[0;32m~/anaconda3/envs/py_env/lib/python3.13/site-packages/squidpy/gr/_utils.py:161\u001b[0m, in \u001b[0;36m_assert_spatial_basis\u001b[0;34m(adata, key)\u001b[0m\n\u001b[1;32m    159\u001b[0m \u001b[38;5;28;01mdef\u001b[39;00m\u001b[38;5;250m \u001b[39m\u001b[38;5;21m_assert_spatial_basis\u001b[39m(adata: AnnData, key: \u001b[38;5;28mstr\u001b[39m) \u001b[38;5;241m-\u001b[39m\u001b[38;5;241m>\u001b[39m \u001b[38;5;28;01mNone\u001b[39;00m:\n\u001b[1;32m    160\u001b[0m     \u001b[38;5;28;01mif\u001b[39;00m key \u001b[38;5;129;01mnot\u001b[39;00m \u001b[38;5;129;01min\u001b[39;00m adata\u001b[38;5;241m.\u001b[39mobsm:\n\u001b[0;32m--> 161\u001b[0m         \u001b[38;5;28;01mraise\u001b[39;00m \u001b[38;5;167;01mKeyError\u001b[39;00m(\u001b[38;5;124mf\u001b[39m\u001b[38;5;124m\"\u001b[39m\u001b[38;5;124mSpatial basis `\u001b[39m\u001b[38;5;132;01m{\u001b[39;00mkey\u001b[38;5;132;01m}\u001b[39;00m\u001b[38;5;124m` not found in `adata.obsm`.\u001b[39m\u001b[38;5;124m\"\u001b[39m)\n",
      "\u001b[0;31mKeyError\u001b[0m: 'Spatial basis `spatial` not found in `adata.obsm`.'"
     ]
    }
   ],
   "source": [
    "sq.gr.spatial_neighbors(patient19)"
   ]
  },
  {
   "cell_type": "code",
   "execution_count": null,
   "id": "afc2917a-0731-4052-9968-e111caa73120",
   "metadata": {},
   "outputs": [],
   "source": []
  }
 ],
 "metadata": {
  "kernelspec": {
   "display_name": "Python_py_env",
   "language": "python",
   "name": "py_env"
  },
  "language_info": {
   "codemirror_mode": {
    "name": "ipython",
    "version": 3
   },
   "file_extension": ".py",
   "mimetype": "text/x-python",
   "name": "python",
   "nbconvert_exporter": "python",
   "pygments_lexer": "ipython3",
   "version": "3.13.2"
  }
 },
 "nbformat": 4,
 "nbformat_minor": 5
}
