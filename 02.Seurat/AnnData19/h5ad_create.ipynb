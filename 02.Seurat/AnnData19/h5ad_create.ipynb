{
 "cells": [
  {
   "cell_type": "code",
   "execution_count": 1,
   "id": "56006a08-9b54-4f65-a895-7856751d2027",
   "metadata": {},
   "outputs": [
    {
     "name": "stderr",
     "output_type": "stream",
     "text": [
      "/home/vgaya/anaconda3/envs/py_env/lib/python3.13/site-packages/dask/dataframe/__init__.py:31: FutureWarning: The legacy Dask DataFrame implementation is deprecated and will be removed in a future version. Set the configuration option `dataframe.query-planning` to `True` or None to enable the new Dask Dataframe implementation and silence this warning.\n",
      "  warnings.warn(\n",
      "/home/vgaya/anaconda3/envs/py_env/lib/python3.13/site-packages/spatialdata/_core/query/relational_query.py:504: FutureWarning: functools.partial will be a method descriptor in future Python versions; wrap it in enum.member() if you want to preserve the old behavior\n",
      "  left = partial(_left_join_spatialelement_table)\n",
      "/home/vgaya/anaconda3/envs/py_env/lib/python3.13/site-packages/spatialdata/_core/query/relational_query.py:505: FutureWarning: functools.partial will be a method descriptor in future Python versions; wrap it in enum.member() if you want to preserve the old behavior\n",
      "  left_exclusive = partial(_left_exclusive_join_spatialelement_table)\n",
      "/home/vgaya/anaconda3/envs/py_env/lib/python3.13/site-packages/spatialdata/_core/query/relational_query.py:506: FutureWarning: functools.partial will be a method descriptor in future Python versions; wrap it in enum.member() if you want to preserve the old behavior\n",
      "  inner = partial(_inner_join_spatialelement_table)\n",
      "/home/vgaya/anaconda3/envs/py_env/lib/python3.13/site-packages/spatialdata/_core/query/relational_query.py:507: FutureWarning: functools.partial will be a method descriptor in future Python versions; wrap it in enum.member() if you want to preserve the old behavior\n",
      "  right = partial(_right_join_spatialelement_table)\n",
      "/home/vgaya/anaconda3/envs/py_env/lib/python3.13/site-packages/spatialdata/_core/query/relational_query.py:508: FutureWarning: functools.partial will be a method descriptor in future Python versions; wrap it in enum.member() if you want to preserve the old behavior\n",
      "  right_exclusive = partial(_right_exclusive_join_spatialelement_table)\n",
      "/home/vgaya/anaconda3/envs/py_env/lib/python3.13/site-packages/numba/core/decorators.py:246: RuntimeWarning: nopython is set for njit and is ignored\n",
      "  warnings.warn('nopython is set for njit and is ignored', RuntimeWarning)\n",
      "/home/vgaya/anaconda3/envs/py_env/lib/python3.13/site-packages/anndata/utils.py:429: FutureWarning: Importing read_text from `anndata` is deprecated. Import anndata.io.read_text instead.\n",
      "  warnings.warn(msg, FutureWarning)\n"
     ]
    },
    {
     "name": "stdout",
     "output_type": "stream",
     "text": [
      "squidpy==1.6.2\n"
     ]
    }
   ],
   "source": [
    "import scanpy as sc\n",
    "import seaborn as sns\n",
    "import matplotlib.pyplot as plt\n",
    "import matplotlib.patches as mpatches\n",
    "import pandas as pd\n",
    "import numpy as np\n",
    "import anndata as ad\n",
    "import squidpy as sq\n",
    "from skimage import io\n",
    "sc.logging.print_header()\n",
    "print(f\"squidpy=={sq.__version__}\")"
   ]
  },
  {
   "cell_type": "code",
   "execution_count": 46,
   "id": "529410ec-e7f1-4580-9bcf-475c7310cfb6",
   "metadata": {},
   "outputs": [],
   "source": [
    "adatas = []"
   ]
  },
  {
   "cell_type": "code",
   "execution_count": null,
   "id": "f7896a91-95c2-44ff-bce0-aca7fc8b17d0",
   "metadata": {},
   "outputs": [],
   "source": [
    "for i in range(1, 5):\n",
    "    # Load expression matrixes and metadata for each slice\n",
    "    expression = pd.read_csv(f'expression_matrix_slice{i}.csv', index_col=0)\n",
    "    cell_metadata = pd.read_csv(f'cell_metadata_slice{i}.csv', index_col=0)\n",
    "    gene_metadata = pd.read_csv('gene_metadata.csv', index_col=0)  # Los metadatos de genes son comunes\n",
    "    \n",
    "    # Cargar las coordenadas espaciales (row, col, imagerow, imagecol)\n",
    "    image_coords = pd.read_csv(f\"image_coordinates_slice{i}.csv\", index_col=0)\n",
    "    spatial_coords = image_coords[['row', 'col']]  # Ajustar según los nombres de las columnas\n",
    "    scale_factors = pd.read_csv(f'scale_factors_slice{i}.csv', index_col=0)\n",
    "\n",
    "    # Crear objeto AnnData para el slice\n",
    "    adata = sc.AnnData(X=expression.values, obs=cell_metadata, var=gene_metadata)\n",
    "\n",
    "    # Incluir las coordenadas espaciales\n",
    "    adata.obsm['spatial'] = spatial_coords.values\n",
    "\n",
    "    # Cargar la imagen espacial para el slice\n",
    "    spatial_image = io.imread(f\"spatial_image_slice{i}.png\")\n",
    "\n",
    "    # Asociar la imagen al objeto AnnData\n",
    "    image_name = cell_metadata.name.iloc[0]\n",
    "    adata.uns['spatial'] = {image_name: {}}\n",
    "    adata.uns['spatial'][image_name]['images'] = {}\n",
    "    adata.uns['spatial'][image_name][\"images\"] = {\"hires\": spatial_image}\n",
    "    adata.uns['spatial'][image_name][\"scalefactors\"] = {\n",
    "        \"tissue_hires_scalef\": scale_factors.tissue_hires_scalef.iloc[0],\n",
    "        \"spot_diameter_fullres\": scale_factors.spot_diameter_fullres.iloc[0]\n",
    "    }\n",
    "    \n",
    "\n",
    "    # Agregar el objeto AnnData a la lista\n",
    "    adatas.append(adata)"
   ]
  },
  {
   "cell_type": "code",
   "execution_count": null,
   "id": "afc2917a-0731-4052-9968-e111caa73120",
   "metadata": {},
   "outputs": [],
   "source": [
    "# Combined the AnnData objects into a unique one\n",
    "adata_combined = adatas[0].concatenate(adatas[1:], join='outer')\n",
    "\n",
    "adata_combined.write(f\"Paciente19_merge.h5ad\")"
   ]
  }
 ],
 "metadata": {
  "kernelspec": {
   "display_name": "Python_py_env",
   "language": "python",
   "name": "py_env"
  },
  "language_info": {
   "codemirror_mode": {
    "name": "ipython",
    "version": 3
   },
   "file_extension": ".py",
   "mimetype": "text/x-python",
   "name": "python",
   "nbconvert_exporter": "python",
   "pygments_lexer": "ipython3",
   "version": "3.13.2"
  }
 },
 "nbformat": 4,
 "nbformat_minor": 5
}
