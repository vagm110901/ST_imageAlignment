{
 "cells": [
  {
   "cell_type": "code",
   "execution_count": 1,
   "metadata": {},
   "outputs": [],
   "source": [
    "import numpy as np\n",
    "import pandas as pd\n",
    "from skimage.draw import disk\n",
    "import scanpy as sc"
   ]
  },
  {
   "cell_type": "code",
   "execution_count": 2,
   "metadata": {},
   "outputs": [],
   "source": [
    "import cv2"
   ]
  },
  {
   "cell_type": "code",
   "execution_count": null,
   "metadata": {},
   "outputs": [
    {
     "data": {
      "text/plain": [
       "AnnData object with n_obs × n_vars = 4992 × 28463\n",
       "    obs: 'orig.ident', 'nCount_Spatial', 'nFeature_Spatial', 'name', 'info', 'percent.butterfly', 'tissue', 'row', 'col', 'imagerow', 'imagecol'\n",
       "    var: 'x'\n",
       "    uns: 'spatial'\n",
       "    obsm: 'spatial'"
      ]
     },
     "execution_count": 3,
     "metadata": {},
     "output_type": "execute_result"
    }
   ],
   "source": [
    "carpetaData = \"../02.Seurat/\"\n",
    "carpetaSave = \"../07.PASTE2/\"\n",
    "patient = \"19\"\n",
    "adatas = []\n",
    "ims = []\n",
    "for i in range(1,5):\n",
    "    adata_name = f\"{carpetaData}Paciente{patient}_merge_{i}.h5ad\"\n",
    "    adata = sc.read_h5ad(adata_name)\n",
    "    adatas.append(adata)\n",
    "    im_name = f\"{carpetaData}AnnData{patient}/spatial_image_slice{i}.png\"\n",
    "    im = cv2.imread(im_name)\n",
    "    ims.append(im)\n",
    "\n",
    "adata = adatas[0]\n",
    "im = ims[0]\n",
    "adata"
   ]
  },
  {
   "cell_type": "code",
   "execution_count": 4,
   "metadata": {},
   "outputs": [
    {
     "data": {
      "application/vnd.microsoft.datawrangler.viewer.v0+json": {
       "columns": [
        {
         "name": "index",
         "rawType": "object",
         "type": "string"
        },
        {
         "name": "row",
         "rawType": "int64",
         "type": "integer"
        },
        {
         "name": "col",
         "rawType": "int64",
         "type": "integer"
        },
        {
         "name": "imagerow",
         "rawType": "int64",
         "type": "integer"
        },
        {
         "name": "imagecol",
         "rawType": "int64",
         "type": "integer"
        }
       ],
       "conversionMethod": "pd.DataFrame",
       "ref": "2b3b0662-f6e2-487b-9e18-f060a3669ff6",
       "rows": [
        [
         "slice19_1_AAACAACGAATAGTTC-1",
         "16",
         "0",
         "3312",
         "1309"
        ],
        [
         "slice19_1_AAACAAGTATCTCCCA-1",
         "102",
         "50",
         "13023",
         "11134"
        ],
        [
         "slice19_1_AAACAATCTACTAGCA-1",
         "43",
         "3",
         "6360",
         "1899"
        ],
        [
         "slice19_1_AAACACCAATAACTGC-1",
         "19",
         "59",
         "3650",
         "12902"
        ],
        [
         "slice19_1_AAACAGAGCGACTCCT-1",
         "94",
         "14",
         "12120",
         "4060"
        ],
        [
         "slice19_1_AAACAGCTTTCAGAAG-1",
         "9",
         "43",
         "2521",
         "9758"
        ],
        [
         "slice19_1_AAACAGGGTCTATATT-1",
         "13",
         "47",
         "2973",
         "10544"
        ],
        [
         "slice19_1_AAACAGTGTTCCTGGG-1",
         "43",
         "73",
         "6360",
         "15653"
        ],
        [
         "slice19_1_AAACATGGTGAGAGGA-1",
         "0",
         "62",
         "1505",
         "13492"
        ],
        [
         "slice19_1_AAACATTTCCCGGATT-1",
         "97",
         "61",
         "12458",
         "13295"
        ],
        [
         "slice19_1_AAACCACTACACAGAT-1",
         "117",
         "3",
         "14717",
         "1899"
        ],
        [
         "slice19_1_AAACCCGAACGAAATC-1",
         "115",
         "45",
         "14491",
         "10151"
        ],
        [
         "slice19_1_AAACCGGAAATGTTAA-1",
         "124",
         "54",
         "15507",
         "11920"
        ],
        [
         "slice19_1_AAACCGGGTAGGTACC-1",
         "28",
         "42",
         "4667",
         "9562"
        ],
        [
         "slice19_1_AAACCGTTCGTCCAGG-1",
         "42",
         "52",
         "6247",
         "11527"
        ],
        [
         "slice19_1_AAACCTAAGCAGCCGG-1",
         "83",
         "65",
         "10877",
         "14081"
        ],
        [
         "slice19_1_AAACCTCATGAAGTTG-1",
         "19",
         "37",
         "3650",
         "8579"
        ],
        [
         "slice19_1_AAACGAAGAACATACC-1",
         "64",
         "6",
         "8732",
         "2488"
        ],
        [
         "slice19_1_AAACGAAGATGGAGTA-1",
         "4",
         "58",
         "1956",
         "12706"
        ],
        [
         "slice19_1_AAACGACAGTCTTGCC-1",
         "118",
         "2",
         "14830",
         "1702"
        ],
        [
         "slice19_1_AAACGAGACGGTTGAT-1",
         "79",
         "35",
         "10426",
         "8186"
        ],
        [
         "slice19_1_AAACGCCCGAGATCGG-1",
         "108",
         "4",
         "13701",
         "2095"
        ],
        [
         "slice19_1_AAACGCTGGGCACGAC-1",
         "126",
         "70",
         "15733",
         "15064"
        ],
        [
         "slice19_1_AAACGGGCGTACGGGT-1",
         "91",
         "65",
         "11781",
         "14081"
        ],
        [
         "slice19_1_AAACGGGTTGGTATCC-1",
         "23",
         "1",
         "4102",
         "1506"
        ],
        [
         "slice19_1_AAACGGTTGCGAACTG-1",
         "59",
         "67",
         "8167",
         "14474"
        ],
        [
         "slice19_1_AAACGTGTTCGCCCTA-1",
         "118",
         "14",
         "14830",
         "4060"
        ],
        [
         "slice19_1_AAACTAACGTGGCGAC-1",
         "110",
         "8",
         "13926",
         "2881"
        ],
        [
         "slice19_1_AAACTCGGTTCGCAAT-1",
         "70",
         "66",
         "9409",
         "14278"
        ],
        [
         "slice19_1_AAACTCGTGATATAAG-1",
         "113",
         "23",
         "14265",
         "5829"
        ],
        [
         "slice19_1_AAACTGCTGGCTCCAA-1",
         "67",
         "45",
         "9071",
         "10151"
        ],
        [
         "slice19_1_AAACTTAATTGCACGC-1",
         "12",
         "64",
         "2860",
         "13885"
        ],
        [
         "slice19_1_AAACTTGCAAACGTAT-1",
         "19",
         "45",
         "3650",
         "10151"
        ],
        [
         "slice19_1_AAAGAATGACCTTAGA-1",
         "2",
         "64",
         "1730",
         "13885"
        ],
        [
         "slice19_1_AAAGAATGTGGACTAA-1",
         "105",
         "71",
         "13362",
         "15260"
        ],
        [
         "slice19_1_AAAGACATGAAGTTTA-1",
         "92",
         "0",
         "11894",
         "1309"
        ],
        [
         "slice19_1_AAAGACCCAAGTCGCG-1",
         "48",
         "10",
         "6925",
         "3274"
        ],
        [
         "slice19_1_AAAGACTGGGCGCTTT-1",
         "15",
         "29",
         "3199",
         "7007"
        ],
        [
         "slice19_1_AAAGCTTGCCTACATA-1",
         "122",
         "26",
         "15282",
         "6418"
        ],
        [
         "slice19_1_AAAGGCCCTATAATAC-1",
         "22",
         "66",
         "3989",
         "14278"
        ],
        [
         "slice19_1_AAAGGCTACGGACCAT-1",
         "54",
         "62",
         "7603",
         "13492"
        ],
        [
         "slice19_1_AAAGGCTCTCGCGCCG-1",
         "55",
         "55",
         "7716",
         "12116"
        ],
        [
         "slice19_1_AAAGGGATGTAGCAAG-1",
         "62",
         "24",
         "8506",
         "6025"
        ],
        [
         "slice19_1_AAAGGGCAGCTTGAAT-1",
         "26",
         "24",
         "4441",
         "6025"
        ],
        [
         "slice19_1_AAAGGTAAGCTGTACC-1",
         "106",
         "10",
         "13475",
         "3274"
        ],
        [
         "slice19_1_AAAGGTCAACGACATG-1",
         "112",
         "0",
         "14152",
         "1309"
        ],
        [
         "slice19_1_AAAGTAGCATTGCTCA-1",
         "27",
         "51",
         "4554",
         "11330"
        ],
        [
         "slice19_1_AAAGTCACTGATGTAA-1",
         "52",
         "10",
         "7377",
         "3274"
        ],
        [
         "slice19_1_AAAGTCGACCCTCAGT-1",
         "15",
         "37",
         "3199",
         "8579"
        ],
        [
         "slice19_1_AAAGTGCCATCAATTA-1",
         "125",
         "63",
         "15620",
         "13688"
        ]
       ],
       "shape": {
        "columns": 4,
        "rows": 4992
       }
      },
      "text/html": [
       "<div>\n",
       "<style scoped>\n",
       "    .dataframe tbody tr th:only-of-type {\n",
       "        vertical-align: middle;\n",
       "    }\n",
       "\n",
       "    .dataframe tbody tr th {\n",
       "        vertical-align: top;\n",
       "    }\n",
       "\n",
       "    .dataframe thead th {\n",
       "        text-align: right;\n",
       "    }\n",
       "</style>\n",
       "<table border=\"1\" class=\"dataframe\">\n",
       "  <thead>\n",
       "    <tr style=\"text-align: right;\">\n",
       "      <th></th>\n",
       "      <th>row</th>\n",
       "      <th>col</th>\n",
       "      <th>imagerow</th>\n",
       "      <th>imagecol</th>\n",
       "    </tr>\n",
       "  </thead>\n",
       "  <tbody>\n",
       "    <tr>\n",
       "      <th>slice19_1_AAACAACGAATAGTTC-1</th>\n",
       "      <td>16</td>\n",
       "      <td>0</td>\n",
       "      <td>3312</td>\n",
       "      <td>1309</td>\n",
       "    </tr>\n",
       "    <tr>\n",
       "      <th>slice19_1_AAACAAGTATCTCCCA-1</th>\n",
       "      <td>102</td>\n",
       "      <td>50</td>\n",
       "      <td>13023</td>\n",
       "      <td>11134</td>\n",
       "    </tr>\n",
       "    <tr>\n",
       "      <th>slice19_1_AAACAATCTACTAGCA-1</th>\n",
       "      <td>43</td>\n",
       "      <td>3</td>\n",
       "      <td>6360</td>\n",
       "      <td>1899</td>\n",
       "    </tr>\n",
       "    <tr>\n",
       "      <th>slice19_1_AAACACCAATAACTGC-1</th>\n",
       "      <td>19</td>\n",
       "      <td>59</td>\n",
       "      <td>3650</td>\n",
       "      <td>12902</td>\n",
       "    </tr>\n",
       "    <tr>\n",
       "      <th>slice19_1_AAACAGAGCGACTCCT-1</th>\n",
       "      <td>94</td>\n",
       "      <td>14</td>\n",
       "      <td>12120</td>\n",
       "      <td>4060</td>\n",
       "    </tr>\n",
       "    <tr>\n",
       "      <th>...</th>\n",
       "      <td>...</td>\n",
       "      <td>...</td>\n",
       "      <td>...</td>\n",
       "      <td>...</td>\n",
       "    </tr>\n",
       "    <tr>\n",
       "      <th>slice19_1_TTGTTTCACATCCAGG-1</th>\n",
       "      <td>42</td>\n",
       "      <td>58</td>\n",
       "      <td>6247</td>\n",
       "      <td>12706</td>\n",
       "    </tr>\n",
       "    <tr>\n",
       "      <th>slice19_1_TTGTTTCATTAGTCTA-1</th>\n",
       "      <td>30</td>\n",
       "      <td>60</td>\n",
       "      <td>4892</td>\n",
       "      <td>13099</td>\n",
       "    </tr>\n",
       "    <tr>\n",
       "      <th>slice19_1_TTGTTTCCATACAACT-1</th>\n",
       "      <td>27</td>\n",
       "      <td>45</td>\n",
       "      <td>4554</td>\n",
       "      <td>10151</td>\n",
       "    </tr>\n",
       "    <tr>\n",
       "      <th>slice19_1_TTGTTTGTATTACACG-1</th>\n",
       "      <td>41</td>\n",
       "      <td>73</td>\n",
       "      <td>6135</td>\n",
       "      <td>15653</td>\n",
       "    </tr>\n",
       "    <tr>\n",
       "      <th>slice19_1_TTGTTTGTGTAAATTC-1</th>\n",
       "      <td>51</td>\n",
       "      <td>7</td>\n",
       "      <td>7264</td>\n",
       "      <td>2685</td>\n",
       "    </tr>\n",
       "  </tbody>\n",
       "</table>\n",
       "<p>4992 rows × 4 columns</p>\n",
       "</div>"
      ],
      "text/plain": [
       "                              row  col  imagerow  imagecol\n",
       "slice19_1_AAACAACGAATAGTTC-1   16    0      3312      1309\n",
       "slice19_1_AAACAAGTATCTCCCA-1  102   50     13023     11134\n",
       "slice19_1_AAACAATCTACTAGCA-1   43    3      6360      1899\n",
       "slice19_1_AAACACCAATAACTGC-1   19   59      3650     12902\n",
       "slice19_1_AAACAGAGCGACTCCT-1   94   14     12120      4060\n",
       "...                           ...  ...       ...       ...\n",
       "slice19_1_TTGTTTCACATCCAGG-1   42   58      6247     12706\n",
       "slice19_1_TTGTTTCATTAGTCTA-1   30   60      4892     13099\n",
       "slice19_1_TTGTTTCCATACAACT-1   27   45      4554     10151\n",
       "slice19_1_TTGTTTGTATTACACG-1   41   73      6135     15653\n",
       "slice19_1_TTGTTTGTGTAAATTC-1   51    7      7264      2685\n",
       "\n",
       "[4992 rows x 4 columns]"
      ]
     },
     "execution_count": 4,
     "metadata": {},
     "output_type": "execute_result"
    }
   ],
   "source": [
    "adata.obsm['spatial']\n",
    "#adata.obsm['rgb']\n",
    "adata.obs[['row','col','imagerow','imagecol']]"
   ]
  },
  {
   "cell_type": "code",
   "execution_count": 6,
   "metadata": {},
   "outputs": [
    {
     "data": {
      "text/plain": [
       "{'images': {'lowres': array([[[219, 229, 253],\n",
       "          [220, 228, 253],\n",
       "          [220, 228, 253],\n",
       "          ...,\n",
       "          [206, 213, 253],\n",
       "          [206, 211, 252],\n",
       "          [207, 212, 253]],\n",
       "  \n",
       "         [[218, 228, 252],\n",
       "          [220, 228, 253],\n",
       "          [220, 228, 253],\n",
       "          ...,\n",
       "          [201, 205, 252],\n",
       "          [203, 208, 252],\n",
       "          [206, 211, 253]],\n",
       "  \n",
       "         [[219, 227, 252],\n",
       "          [220, 228, 253],\n",
       "          [220, 228, 253],\n",
       "          ...,\n",
       "          [188, 190, 249],\n",
       "          [189, 192, 247],\n",
       "          [183, 189, 243]],\n",
       "  \n",
       "         ...,\n",
       "  \n",
       "         [[142, 146, 219],\n",
       "          [187, 190, 245],\n",
       "          [151, 156, 222],\n",
       "          ...,\n",
       "          [216, 225, 252],\n",
       "          [216, 225, 252],\n",
       "          [218, 226, 253]],\n",
       "  \n",
       "         [[ 97,  97, 181],\n",
       "          [124, 126, 201],\n",
       "          [125, 128, 205],\n",
       "          ...,\n",
       "          [216, 225, 252],\n",
       "          [216, 225, 252],\n",
       "          [216, 225, 252]],\n",
       "  \n",
       "         [[ 99,  97, 178],\n",
       "          [128, 127, 207],\n",
       "          [166, 170, 235],\n",
       "          ...,\n",
       "          [217, 225, 252],\n",
       "          [216, 225, 252],\n",
       "          [216, 225, 252]]], dtype=uint8)},\n",
       " 'scalefactors': {'fiducial_diameter_fullres': 237.59477,\n",
       "  'spot_diameter_fullres': 147.08247,\n",
       "  'tissue_hires_scalef': 0.11163829,\n",
       "  'tissue_lowres_scalef': 0.03349149}}"
      ]
     },
     "execution_count": 6,
     "metadata": {},
     "output_type": "execute_result"
    }
   ],
   "source": [
    "adata.uns['spatial']['slice19_1']\n"
   ]
  },
  {
   "cell_type": "code",
   "execution_count": 7,
   "metadata": {},
   "outputs": [
    {
     "data": {
      "text/plain": [
       "array([[0, 0, 0, ..., 0, 0, 0],\n",
       "       [0, 0, 0, ..., 0, 0, 0],\n",
       "       [0, 0, 0, ..., 0, 0, 0],\n",
       "       ...,\n",
       "       [0, 0, 0, ..., 0, 0, 0],\n",
       "       [0, 0, 0, ..., 0, 0, 0],\n",
       "       [0, 0, 0, ..., 0, 0, 0]], dtype=uint8)"
      ]
     },
     "execution_count": 7,
     "metadata": {},
     "output_type": "execute_result"
    }
   ],
   "source": [
    "float(adata.uns['spatial']['slice19_1']['scalefactors']['tissue_hires_scalef'])\n",
    "adata.n_obs\n",
    "adata.obsm['spatial'][1][0]\n",
    "spot_mask = np.zeros((im.shape[0], im.shape[1]), np.uint8)\n",
    "spot_mask"
   ]
  },
  {
   "cell_type": "code",
   "execution_count": 8,
   "metadata": {},
   "outputs": [
    {
     "data": {
      "text/plain": [
       "array([[ 3312,  1309],\n",
       "       [13023, 11134],\n",
       "       [ 6360,  1899],\n",
       "       ...,\n",
       "       [ 4554, 10151],\n",
       "       [ 6135, 15653],\n",
       "       [ 7264,  2685]])"
      ]
     },
     "execution_count": 8,
     "metadata": {},
     "output_type": "execute_result"
    }
   ],
   "source": [
    "adata.obsm['spatial']"
   ]
  },
  {
   "cell_type": "code",
   "execution_count": null,
   "metadata": {},
   "outputs": [],
   "source": [
    "for i in 0:len(adatas):\n",
    "    adata = adatas[i]\n",
    "    im = ims[i]\n",
    "    # I am using the lowres image, because is the one that was available \n",
    "    spot_diam_fullres = float(adata.uns['spatial']['slice19_1']['scalefactors']['spot_diameter_fullres'])\n",
    "    scale_lowres = float(adata.uns['spatial']['slice19_1']['scalefactors']['tissue_lowres_scalef'])\n",
    "    spot_diam_lowres = round(spot_diam_fullres * scale_lowres)\n",
    "    spot_rad_lowres = round(spot_diam_lowres / 2)\n",
    "\n",
    "    rgb = []\n",
    "    for i in range(adata.n_obs):\n",
    "        x, y = round(adata.obsm['spatial'][i][0] * scale_lowres), round(adata.obsm['spatial'][i][1] * scale_lowres)\n",
    "        spot_mask = np.zeros((im.shape[0], im.shape[1]), np.uint8)\n",
    "        cv2.circle(spot_mask, (x, y), radius=int(spot_rad_lowres), color=(255, 255, 255), thickness=-1)\n",
    "        rgb.append(tuple(int(round(c)) for c in cv2.mean(im, spot_mask)[::-1][1:]))\n",
    "\n",
    "        #rgb.append(cv2.mean(im, spot_mask)[::-1][1:])\n",
    "        \n",
    "    adata.obsm['rgb'] = np.array(rgb)\n",
    "\n",
    "    adata.write(f'{carpetaSave}Paciente{patient}_merge_{i}.h5ad')\n"
   ]
  },
  {
   "cell_type": "code",
   "execution_count": null,
   "metadata": {},
   "outputs": [],
   "source": []
  },
  {
   "cell_type": "code",
   "execution_count": null,
   "metadata": {},
   "outputs": [],
   "source": [
    "# --- Datos de entrada ---\n",
    "# Suponiendo que \"image\" es un array NumPy de la imagen RGB (600x589x3)\n",
    "# Suponiendo que \"spots_df\" es un DataFrame con las coordenadas de los spots\n",
    "# Contiene columnas: [\"row\", \"col\", \"imagerow\", \"imagecol\"]\n",
    "\n",
    "lowres_scalef = float(adata.uns['spatial']['slice19_1']['scalefactors']['tissue_lowres_scalef'])\n",
    "spot_size_um = 55\n",
    "spot_size_pxl = spot_size_um/lowres_scalef\n",
    "spot_radius = spot_size_pxl/2  # Ajusta según el tamaño del spot en píxeles\n",
    "\n",
    "image = adata.uns['spatial']['slice19_1']['images']['hires']\n",
    "spots_df = adata.obs[['row','col','imagerow','imagecol']]"
   ]
  },
  {
   "cell_type": "code",
   "execution_count": 36,
   "metadata": {},
   "outputs": [
    {
     "data": {
      "text/plain": [
       "<generator object DataFrame.iterrows at 0x7f37b03e5cf0>"
      ]
     },
     "execution_count": 36,
     "metadata": {},
     "output_type": "execute_result"
    }
   ],
   "source": [
    "spots_df.iterrows()"
   ]
  },
  {
   "cell_type": "code",
   "execution_count": null,
   "metadata": {},
   "outputs": [],
   "source": []
  },
  {
   "cell_type": "code",
   "execution_count": 43,
   "metadata": {},
   "outputs": [
    {
     "name": "stdout",
     "output_type": "stream",
     "text": [
      "[] [] (3312, 1309) 821.104107341895 (600, 589)\n"
     ]
    }
   ],
   "source": [
    "spot = next(spots_df.iterrows())[1]\n",
    "x, y = int(spot[\"imagecol\"]), int(spot[\"imagerow\"])\n",
    "rr, cc = disk((y, x), spot_radius, shape=image.shape[:2])\n",
    "print(rr, cc, (y,x), spot_radius, image.shape[:2])"
   ]
  },
  {
   "cell_type": "code",
   "execution_count": 37,
   "metadata": {},
   "outputs": [
    {
     "name": "stderr",
     "output_type": "stream",
     "text": [
      "/home/vgaya/anaconda3/envs/py_env/lib/python3.13/site-packages/numpy/_core/fromnumeric.py:3904: RuntimeWarning: Mean of empty slice.\n",
      "  return _methods._mean(a, axis=axis, dtype=dtype,\n",
      "/home/vgaya/anaconda3/envs/py_env/lib/python3.13/site-packages/numpy/_core/_methods.py:139: RuntimeWarning: invalid value encountered in divide\n",
      "  ret = um.true_divide(\n"
     ]
    }
   ],
   "source": [
    "# Inicializamos una lista para almacenar los valores RGB promedio por spot\n",
    "spot_colors = []\n",
    "\n",
    "# Iteramos sobre cada spot\n",
    "for idx, spot in spots_df.iterrows():\n",
    "    x, y = int(spot[\"imagecol\"]), int(spot[\"imagerow\"])  # Coordenadas en la imagen\n",
    "\n",
    "    # Obtener los píxeles dentro del radio del spot\n",
    "    rr, cc = disk((y, x), spot_radius, shape=image.shape[:2])\n",
    "\n",
    "    # Extraer los valores RGB de la imagen en esas coordenadas\n",
    "    spot_pixels = image[rr, cc]\n",
    "\n",
    "    # Calcular el promedio de los colores RGB\n",
    "    mean_rgb = np.mean(spot_pixels, axis=0)  # (R_prom, G_prom, B_prom)\n",
    "    \n",
    "    # Guardamos el resultado\n",
    "    spot_colors.append(mean_rgb)"
   ]
  },
  {
   "cell_type": "code",
   "execution_count": null,
   "metadata": {},
   "outputs": [],
   "source": [
    "# Convertimos a DataFrame\n",
    "rgb_df = pd.DataFrame(spot_colors, columns=[\"R\", \"G\", \"B\"], index=spots_df.index)\n",
    "\n",
    "# Agregamos los valores RGB al DataFrame de spots\n",
    "spots_df = pd.concat([spots_df, rgb_df], axis=1)\n",
    "\n",
    "# Guardamos el resultado\n",
    "spots_df.to_csv(\"spots_with_rgb.csv\", index=False)\n",
    "\n",
    "print(\"Archivo generado: spots_with_rgb.csv\")"
   ]
  }
 ],
 "metadata": {
  "kernelspec": {
   "display_name": "py_env_cv2",
   "language": "python",
   "name": "python3"
  },
  "language_info": {
   "codemirror_mode": {
    "name": "ipython",
    "version": 3
   },
   "file_extension": ".py",
   "mimetype": "text/x-python",
   "name": "python",
   "nbconvert_exporter": "python",
   "pygments_lexer": "ipython3",
   "version": "3.13.2"
  }
 },
 "nbformat": 4,
 "nbformat_minor": 2
}
